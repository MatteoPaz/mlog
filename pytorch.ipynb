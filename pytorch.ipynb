{
  "nbformat": 4,
  "nbformat_minor": 0,
  "metadata": {
    "colab": {
      "name": "pytorch.ipynb",
      "version": "0.3.2",
      "provenance": [],
      "include_colab_link": true
    },
    "kernelspec": {
      "name": "python3",
      "display_name": "Python 3"
    }
  },
  "cells": [
    {
      "cell_type": "markdown",
      "metadata": {
        "id": "view-in-github",
        "colab_type": "text"
      },
      "source": [
        "<a href=\"https://colab.research.google.com/github/giuseppefutia/ml/blob/master/pytorch.ipynb\" target=\"_parent\"><img src=\"https://colab.research.google.com/assets/colab-badge.svg\" alt=\"Open In Colab\"/></a>"
      ]
    },
    {
      "metadata": {
        "id": "231BoMMqsXAz",
        "colab_type": "text"
      },
      "cell_type": "markdown",
      "source": [
        "# Pytorch Tutorial"
      ]
    },
    {
      "metadata": {
        "id": "JcEvJrXtsv98",
        "colab_type": "text"
      },
      "cell_type": "markdown",
      "source": [
        "To install Pytorch, you can run the following command:"
      ]
    },
    {
      "metadata": {
        "id": "Hs1t0y39u9YK",
        "colab_type": "code",
        "colab": {}
      },
      "cell_type": "code",
      "source": [
        "import torch"
      ],
      "execution_count": 0,
      "outputs": []
    },
    {
      "metadata": {
        "id": "-TZAanvytEwP",
        "colab_type": "text"
      },
      "cell_type": "markdown",
      "source": [
        "Some basic operations:"
      ]
    },
    {
      "metadata": {
        "id": "xYoIotEwunPu",
        "colab_type": "code",
        "colab": {
          "base_uri": "https://localhost:8080/",
          "height": 243
        },
        "outputId": "b0ff2f82-3817-4bd5-be32-41ec277d2545"
      },
      "cell_type": "code",
      "source": [
        "x = torch.randn(4,4)\n",
        "print(x)\n",
        "z = x.view(8, -1)\n",
        "print(z)\n",
        "print(z.size())"
      ],
      "execution_count": 2,
      "outputs": [
        {
          "output_type": "stream",
          "text": [
            "tensor([[-0.1649, -1.2644, -0.8343,  1.5186],\n",
            "        [-1.3898,  0.7941, -1.0053,  0.0614],\n",
            "        [-2.1090, -1.4727, -1.3148, -0.3132],\n",
            "        [ 0.9935, -1.0072,  0.9316, -1.0751]])\n",
            "tensor([[-0.1649, -1.2644],\n",
            "        [-0.8343,  1.5186],\n",
            "        [-1.3898,  0.7941],\n",
            "        [-1.0053,  0.0614],\n",
            "        [-2.1090, -1.4727],\n",
            "        [-1.3148, -0.3132],\n",
            "        [ 0.9935, -1.0072],\n",
            "        [ 0.9316, -1.0751]])\n",
            "torch.Size([8, 2])\n"
          ],
          "name": "stdout"
        }
      ]
    },
    {
      "metadata": {
        "id": "Sf_uMuSfwctp",
        "colab_type": "text"
      },
      "cell_type": "markdown",
      "source": [
        "## Cuda Tensors"
      ]
    },
    {
      "metadata": {
        "id": "kKVkehGcuslO",
        "colab_type": "code",
        "colab": {
          "base_uri": "https://localhost:8080/",
          "height": 35
        },
        "outputId": "4ef55f7d-d63b-4532-9940-8e16c10690b9"
      },
      "cell_type": "code",
      "source": [
        "if torch.cuda.is_available():\n",
        "  device = torch.device('cuda')\n",
        "  print(device)\n",
        "else:\n",
        "  print('cuda not available')"
      ],
      "execution_count": 3,
      "outputs": [
        {
          "output_type": "stream",
          "text": [
            "cuda not available\n"
          ],
          "name": "stdout"
        }
      ]
    },
    {
      "metadata": {
        "id": "Of6LU_6OyL8G",
        "colab_type": "text"
      },
      "cell_type": "markdown",
      "source": [
        "## Autograd"
      ]
    },
    {
      "metadata": {
        "id": "YTHEx1RCwsLw",
        "colab_type": "code",
        "colab": {
          "base_uri": "https://localhost:8080/",
          "height": 312
        },
        "outputId": "e0bd64c8-11c0-408a-c020-80cc6f756232"
      },
      "cell_type": "code",
      "source": [
        "print('Create a tensor with requires_grad=True')\n",
        "x = torch.ones(2, 2, requires_grad=True)\n",
        "print(x)\n",
        "print()\n",
        "print()\n",
        "\n",
        "print('When I compute any operation on a Tensor, and I have defined requires_grad=True, a gradient function is associated to the new Tensor')\n",
        "y = x+2\n",
        "print(y)\n",
        "print(y.grad_fn)\n",
        "print()\n",
        "print()\n",
        "\n",
        "print('More operations: multiplications and means')\n",
        "z = y * y * 3\n",
        "out = z.mean()\n",
        "print(z)\n",
        "print(out)\n",
        "print()\n",
        "print()\n",
        "\n"
      ],
      "execution_count": 4,
      "outputs": [
        {
          "output_type": "stream",
          "text": [
            "Create a tensor with requires_grad=True\n",
            "tensor([[1., 1.],\n",
            "        [1., 1.]], requires_grad=True)\n",
            "\n",
            "\n",
            "When I compute any operation on a Tensor, and I have defined requires_grad=True, a gradient function is associated to the new Tensor\n",
            "tensor([[3., 3.],\n",
            "        [3., 3.]], grad_fn=<AddBackward0>)\n",
            "<AddBackward0 object at 0x7fadcf87a4a8>\n",
            "\n",
            "\n",
            "More operations: multiplications and means\n",
            "tensor([[27., 27.],\n",
            "        [27., 27.]], grad_fn=<MulBackward0>)\n",
            "tensor(27., grad_fn=<MeanBackward1>)\n",
            "\n",
            "\n"
          ],
          "name": "stdout"
        }
      ]
    },
    {
      "metadata": {
        "id": "YFeLM7lT2PlR",
        "colab_type": "text"
      },
      "cell_type": "markdown",
      "source": [
        "## Gradients"
      ]
    },
    {
      "metadata": {
        "id": "QqdgZ7w_yKHc",
        "colab_type": "code",
        "colab": {}
      },
      "cell_type": "code",
      "source": [
        "out.backward()"
      ],
      "execution_count": 0,
      "outputs": []
    },
    {
      "metadata": {
        "id": "MFGMihOZ_ziZ",
        "colab_type": "code",
        "colab": {}
      },
      "cell_type": "code",
      "source": [
        ""
      ],
      "execution_count": 0,
      "outputs": []
    },
    {
      "metadata": {
        "id": "sgw8lXzo20Ii",
        "colab_type": "text"
      },
      "cell_type": "markdown",
      "source": [
        "Print gradients d(out)/dx"
      ]
    },
    {
      "metadata": {
        "id": "s2WYEG0D2WOF",
        "colab_type": "code",
        "colab": {
          "base_uri": "https://localhost:8080/",
          "height": 52
        },
        "outputId": "abd71c7b-3ccf-4a7a-db00-b2c192808e49"
      },
      "cell_type": "code",
      "source": [
        "print(x.grad)"
      ],
      "execution_count": 6,
      "outputs": [
        {
          "output_type": "stream",
          "text": [
            "tensor([[4.5000, 4.5000],\n",
            "        [4.5000, 4.5000]])\n"
          ],
          "name": "stdout"
        }
      ]
    },
    {
      "metadata": {
        "id": "6atDl5of26YK",
        "colab_type": "code",
        "colab": {}
      },
      "cell_type": "code",
      "source": [
        ""
      ],
      "execution_count": 0,
      "outputs": []
    }
  ]
}