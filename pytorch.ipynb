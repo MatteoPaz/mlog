{
  "nbformat": 4,
  "nbformat_minor": 0,
  "metadata": {
    "colab": {
      "name": "pytorch.ipynb",
      "version": "0.3.2",
      "provenance": [],
      "include_colab_link": true
    },
    "kernelspec": {
      "name": "python3",
      "display_name": "Python 3"
    }
  },
  "cells": [
    {
      "cell_type": "markdown",
      "metadata": {
        "id": "view-in-github",
        "colab_type": "text"
      },
      "source": [
        "<a href=\"https://colab.research.google.com/github/giuseppefutia/machine-learning/blob/master/pytorch.ipynb\" target=\"_parent\"><img src=\"https://colab.research.google.com/assets/colab-badge.svg\" alt=\"Open In Colab\"/></a>"
      ]
    },
    {
      "metadata": {
        "id": "231BoMMqsXAz",
        "colab_type": "text"
      },
      "cell_type": "markdown",
      "source": [
        "# Pytorch Tutorial"
      ]
    },
    {
      "metadata": {
        "id": "Hs1t0y39u9YK",
        "colab_type": "code",
        "colab": {}
      },
      "cell_type": "code",
      "source": [
        "import torch"
      ],
      "execution_count": 0,
      "outputs": []
    },
    {
      "metadata": {
        "id": "-TZAanvytEwP",
        "colab_type": "text"
      },
      "cell_type": "markdown",
      "source": [
        "## Some points on view() method\n",
        "\n",
        "One of the firt basic operation that I want to perform on Pytorch is the use of view method of a tensor.\n",
        "\n",
        "The view method reshapes a tensor, also when you don't know which dimension should have the row (or the column) of you reshaped matrix.\n",
        "\n",
        "As you can see in the  following example, you can set the value -1, at the column place.\n"
      ]
    },
    {
      "metadata": {
        "id": "xYoIotEwunPu",
        "colab_type": "code",
        "outputId": "b81be91c-140d-4c7a-bd96-136c5d43dc2d",
        "colab": {
          "base_uri": "https://localhost:8080/",
          "height": 451
        }
      },
      "cell_type": "code",
      "source": [
        "x = torch.randn(4,4)\n",
        "print(x)\n",
        "print(x.size())\n",
        "\n",
        "print('---')\n",
        "\n",
        "y = x.view(8, 2)\n",
        "print(y)\n",
        "print(y.size())\n",
        "\n",
        "print('---')\n",
        "\n",
        "z = x.view(8, -1)\n",
        "print(z)\n",
        "print(z.size())"
      ],
      "execution_count": 0,
      "outputs": [
        {
          "output_type": "stream",
          "text": [
            "tensor([[ 0.2670,  0.1353, -0.6542, -0.7428],\n",
            "        [ 0.9956, -0.2225,  0.9738, -0.4819],\n",
            "        [ 2.1576, -1.1777, -0.6376, -0.1671],\n",
            "        [ 1.6130, -1.4044,  0.4690,  0.0457]])\n",
            "torch.Size([4, 4])\n",
            "---\n",
            "tensor([[ 0.2670,  0.1353],\n",
            "        [-0.6542, -0.7428],\n",
            "        [ 0.9956, -0.2225],\n",
            "        [ 0.9738, -0.4819],\n",
            "        [ 2.1576, -1.1777],\n",
            "        [-0.6376, -0.1671],\n",
            "        [ 1.6130, -1.4044],\n",
            "        [ 0.4690,  0.0457]])\n",
            "torch.Size([8, 2])\n",
            "---\n",
            "tensor([[ 0.2670,  0.1353],\n",
            "        [-0.6542, -0.7428],\n",
            "        [ 0.9956, -0.2225],\n",
            "        [ 0.9738, -0.4819],\n",
            "        [ 2.1576, -1.1777],\n",
            "        [-0.6376, -0.1671],\n",
            "        [ 1.6130, -1.4044],\n",
            "        [ 0.4690,  0.0457]])\n",
            "torch.Size([8, 2])\n"
          ],
          "name": "stdout"
        }
      ]
    },
    {
      "metadata": {
        "id": "Sf_uMuSfwctp",
        "colab_type": "text"
      },
      "cell_type": "markdown",
      "source": [
        "## Cuda Tensors\n",
        "A simple way to verify of your cuda architecture is available."
      ]
    },
    {
      "metadata": {
        "id": "kKVkehGcuslO",
        "colab_type": "code",
        "outputId": "56810008-3ec6-4bbe-9b85-ae0329a8d66b",
        "colab": {
          "base_uri": "https://localhost:8080/",
          "height": 35
        }
      },
      "cell_type": "code",
      "source": [
        "if torch.cuda.is_available():\n",
        "  device = torch.device('cuda')\n",
        "  print(device)\n",
        "else:\n",
        "  print('cuda not available')"
      ],
      "execution_count": 0,
      "outputs": [
        {
          "output_type": "stream",
          "text": [
            "cuda not available\n"
          ],
          "name": "stdout"
        }
      ]
    },
    {
      "metadata": {
        "id": "Of6LU_6OyL8G",
        "colab_type": "text"
      },
      "cell_type": "markdown",
      "source": [
        "## Autograd\n",
        "\n",
        "The idea behind autograd is the following: when you compute an operation on a Tensor where the parameter requires_grad is set to True, a gradient function is associated to this operation. This gradient function will be employed during the backpropagation step."
      ]
    },
    {
      "metadata": {
        "id": "YTHEx1RCwsLw",
        "colab_type": "code",
        "outputId": "cfce8e63-5fa0-46f9-9980-e23d48b3cabb",
        "colab": {
          "base_uri": "https://localhost:8080/",
          "height": 243
        }
      },
      "cell_type": "code",
      "source": [
        "x = torch.ones(2, 2, requires_grad=True)\n",
        "print(x)\n",
        "print()\n",
        "print()\n",
        "\n",
        "y = x+2\n",
        "print(y)\n",
        "print()\n",
        "print()\n",
        "\n",
        "z = y * y * 3\n",
        "print(z)\n",
        "print()\n",
        "print()\n",
        "\n",
        "\n",
        "out = z.mean()\n",
        "print(out)\n",
        "\n"
      ],
      "execution_count": 0,
      "outputs": [
        {
          "output_type": "stream",
          "text": [
            "tensor([[1., 1.],\n",
            "        [1., 1.]], requires_grad=True)\n",
            "\n",
            "\n",
            "tensor([[3., 3.],\n",
            "        [3., 3.]], grad_fn=<AddBackward0>)\n",
            "\n",
            "\n",
            "tensor([[27., 27.],\n",
            "        [27., 27.]], grad_fn=<MulBackward0>)\n",
            "\n",
            "\n",
            "tensor(27., grad_fn=<MeanBackward1>)\n"
          ],
          "name": "stdout"
        }
      ]
    },
    {
      "metadata": {
        "id": "YFeLM7lT2PlR",
        "colab_type": "text"
      },
      "cell_type": "markdown",
      "source": [
        "## Gradients\n",
        "You can perform the backpropagation using the following command:"
      ]
    },
    {
      "metadata": {
        "id": "QqdgZ7w_yKHc",
        "colab_type": "code",
        "colab": {}
      },
      "cell_type": "code",
      "source": [
        "out.backward()"
      ],
      "execution_count": 0,
      "outputs": []
    },
    {
      "metadata": {
        "id": "sgw8lXzo20Ii",
        "colab_type": "text"
      },
      "cell_type": "markdown",
      "source": [
        "Print gradients d(out)/dx"
      ]
    },
    {
      "metadata": {
        "id": "s2WYEG0D2WOF",
        "colab_type": "code",
        "outputId": "6c6c9b35-fc9d-4c30-bc32-c4e232fb210f",
        "colab": {
          "base_uri": "https://localhost:8080/",
          "height": 52
        }
      },
      "cell_type": "code",
      "source": [
        "print(x.grad)"
      ],
      "execution_count": 0,
      "outputs": [
        {
          "output_type": "stream",
          "text": [
            "tensor([[4.5000, 4.5000],\n",
            "        [4.5000, 4.5000]])\n"
          ],
          "name": "stdout"
        }
      ]
    },
    {
      "metadata": {
        "id": "kcDhjZ1VDY5U",
        "colab_type": "text"
      },
      "cell_type": "markdown",
      "source": [
        "## *** TODO NEED TO SEE IN A BETTER WAY SOMETHING RELATED TO THE JACOBIAN MATRIX"
      ]
    },
    {
      "metadata": {
        "id": "pb0YPoKqD2IA",
        "colab_type": "text"
      },
      "cell_type": "markdown",
      "source": [
        "## Neural Networks"
      ]
    },
    {
      "metadata": {
        "id": "iC1OeMEFDhRu",
        "colab_type": "code",
        "colab": {}
      },
      "cell_type": "code",
      "source": [
        "import torch\n",
        "import torch.nn as nn\n",
        "import torch.nn.functional as F\n",
        "\n",
        "def __init__(self):\n",
        "        super(Net, self).__init__()\n",
        "        \n",
        "        # 1 input image channel, 6 output channels, 5x5 square convolution\n",
        "        # kernel\n",
        "        self.conv1 = nn.Conv2d(1, 6, 5)\n",
        "        self.conv2 = nn.Conv2d(6, 16, 5)\n",
        "        \n",
        "        # an affine operation: y = Wx + b\n",
        "        self.fc1 = nn.Linear(16 * 5 * 5, 120)\n",
        "        self.fc2 = nn.Linear(120, 84)\n",
        "        self.fc3 = nn.Linear(84, 10)\n",
        "        \n",
        "        "
      ],
      "execution_count": 0,
      "outputs": []
    },
    {
      "metadata": {
        "id": "uLLGfdReH836",
        "colab_type": "text"
      },
      "cell_type": "markdown",
      "source": [
        "## Two-layered Network\n",
        "In this first example, we see how to train a shallow neural network with numpy and pytorch.\n",
        "\n",
        "This example is written starting from the code published at the following link: https://pytorch.org/tutorials/beginner/pytorch_with_examples.html"
      ]
    },
    {
      "metadata": {
        "id": "X6_ef7ADIISC",
        "colab_type": "code",
        "colab": {}
      },
      "cell_type": "code",
      "source": [
        ""
      ],
      "execution_count": 0,
      "outputs": []
    },
    {
      "metadata": {
        "id": "uyZS5PhNIJN-",
        "colab_type": "text"
      },
      "cell_type": "markdown",
      "source": [
        "#### Tensors\n",
        "\n",
        "In this example we adopt pytorch tensors for input, output data, and weights.\n",
        "\n",
        "Here, we manually perform forward and backward (as we made in the previous step with numpy)."
      ]
    },
    {
      "metadata": {
        "id": "cPmj21SCILBc",
        "colab_type": "code",
        "colab": {}
      },
      "cell_type": "code",
      "source": [
        "import torch\n",
        "\n",
        "\n",
        "dtype = torch.float\n",
        "device = torch.device(\"cpu\")\n",
        "\n",
        "if torch.cuda.is_available(): # Try to use GPU if available\n",
        "  device = torch.device('cuda')\n",
        "\n",
        "print(device)\n",
        "\n",
        "# N is batch size; D_in is input dimension;\n",
        "# H is hidden dimension; D_out is output dimension.\n",
        "N, D_in, H, D_out = 64, 1000, 100, 10\n",
        "\n",
        "# Create random input and output data\n",
        "x = torch.randn(N, D_in, device=device, dtype=dtype)\n",
        "y = torch.randn(N, D_out, device=device, dtype=dtype)\n",
        "\n",
        "# Randomly initialize weights\n",
        "w1 = torch.randn(D_in, H, device=device, dtype=dtype)\n",
        "w2 = torch.randn(H, D_out, device=device, dtype=dtype)\n",
        "\n",
        "# Define the learning rate\n",
        "learning_rate = 1e-6\n",
        "\n",
        "for t in range(500):\n",
        "  \n",
        "    # Forward pass: compute predicted y\n",
        "    # mm() performs a matrix multiplication of x and w1\n",
        "    h = x.mm(w1)\n",
        "    # clam() allows you to construct the relu. The output will be the max betwwen 0 and the number\n",
        "    h_relu = h.clamp(min=0)\n",
        "    y_pred = h_relu.mm(w2)\n",
        "\n",
        "    # Compute and print loss\n",
        "    # Using item, I can get the effective value of loss (otherwise I will get a tensor)\n",
        "    loss = (y_pred - y).pow(2).sum().item()\n",
        "    \n",
        "    if (t % 100) == 0:\n",
        "      print('epoch:' + str(t), 'loss:' + str(loss))\n",
        "\n",
        "    # Backprop to compute gradients of w1 and w2 with respect to loss\n",
        "    grad_y_pred = 2.0 * (y_pred - y)\n",
        "    grad_w2 = h_relu.t().mm(grad_y_pred)\n",
        "    grad_h_relu = grad_y_pred.mm(w2.t())\n",
        "    grad_h = grad_h_relu.clone()\n",
        "    grad_h[h < 0] = 0\n",
        "    grad_w1 = x.t().mm(grad_h)\n",
        "\n",
        "    # Update weights using gradient descent\n",
        "    w1 -= learning_rate * grad_w1\n",
        "    w2 -= learning_rate * grad_w2"
      ],
      "execution_count": 0,
      "outputs": []
    },
    {
      "metadata": {
        "id": "I89tGsRdIQx4",
        "colab_type": "text"
      },
      "cell_type": "markdown",
      "source": [
        "#### Autograd\n",
        "In this example we do not manually perform forward and backward propagation, but we exploit the autograd feature of Pytorch in order to automate both the steps.\n",
        "\n",
        "With the autograd function, a computational graph will be built during the forward pass. For each computation a derivative will be generated, that will be used during the backprop."
      ]
    },
    {
      "metadata": {
        "id": "HfsIshLBITTL",
        "colab_type": "code",
        "colab": {}
      },
      "cell_type": "code",
      "source": [
        "import torch\n",
        "\n",
        "dtype = torch.float\n",
        "device = torch.device(\"cpu\")\n",
        "if torch.cuda.is_available(): # Try to use GPU if available\n",
        "  device = torch.device('cuda')\n",
        "\n",
        "print(device)\n",
        "\n",
        "# N is batch size; D_in is input dimension;\n",
        "# H is hidden dimension; D_out is output dimension.\n",
        "N, D_in, H, D_out = 64, 1000, 100, 10\n",
        "\n",
        "# Create random Tensors to hold input and outputs.\n",
        "# Setting requires_grad=False indicates that we do not need to compute gradients\n",
        "# with respect to these Tensors during the backward pass.\n",
        "x = torch.randn(N, D_in, device=device, dtype=dtype)\n",
        "y = torch.randn(N, D_out, device=device, dtype=dtype)\n",
        "\n",
        "# Create random Tensors for weights.\n",
        "# Setting requires_grad=True indicates that we want to compute gradients with\n",
        "# respect to these Tensors during the backward pass.\n",
        "w1 = torch.randn(D_in, H, device=device, dtype=dtype, requires_grad=True)\n",
        "w2 = torch.randn(H, D_out, device=device, dtype=dtype, requires_grad=True)\n",
        "\n",
        "# Define the learning rate\n",
        "learning_rate = 1e-6\n",
        "\n",
        "for t in range(500):\n",
        "    # Forward pass: compute predicted y using operations on Tensors; these\n",
        "    # are exactly the same operations we used to compute the forward pass using\n",
        "    # Tensors, but we do not need to keep references to intermediate values since\n",
        "    # we are not implementing the backward pass by hand.\n",
        "    y_pred = x.mm(w1).clamp(min=0).mm(w2)\n",
        "\n",
        "    # Compute and print loss using operations on Tensors.\n",
        "    # Now loss is a Tensor of shape (1,)\n",
        "    # loss.item() gets the a scalar value held in the loss.\n",
        "    loss = (y_pred - y).pow(2).sum()\n",
        "    if (t % 100) == 0:\n",
        "      print('epoch:' + str(t), 'loss:' + str(loss.item()))\n",
        "\n",
        "    # Use autograd to compute the backward pass. This call will compute the\n",
        "    # gradient of loss with respect to all Tensors with requires_grad=True.\n",
        "    # After this call w1.grad and w2.grad will be Tensors holding the gradient\n",
        "    # of the loss with respect to w1 and w2 respectively.\n",
        "    loss.backward()\n",
        "\n",
        "    # Manually update weights using gradient descent. Wrap in torch.no_grad()\n",
        "    # because weights have requires_grad=True, but we don't need to track this\n",
        "    # in autograd.\n",
        "    # An alternative way is to operate on weight.data and weight.grad.data.\n",
        "    # Recall that tensor.data gives a tensor that shares the storage with\n",
        "    # tensor, but doesn't track history.\n",
        "    # You can also use torch.optim.SGD to achieve this.\n",
        "    with torch.no_grad():\n",
        "        w1 -= learning_rate * w1.grad\n",
        "        w2 -= learning_rate * w2.grad\n",
        "\n",
        "        # Manually zero the gradients after updating weights\n",
        "        w1.grad.zero_()\n",
        "        w2.grad.zero_()"
      ],
      "execution_count": 0,
      "outputs": []
    },
    {
      "metadata": {
        "id": "SY92TnbfIgGX",
        "colab_type": "text"
      },
      "cell_type": "markdown",
      "source": [
        "#### nn\n",
        "\n",
        "Computational graphs and autograd are very powerful to define complex operators and automatically compute derivatives.\n",
        "\n",
        "Traditionally, when we build neural networks, we usually arrange computation in layers that contain learnable parameters which will be optimized during the learning stage."
      ]
    },
    {
      "metadata": {
        "id": "hTbERwMnIhI2",
        "colab_type": "code",
        "colab": {}
      },
      "cell_type": "code",
      "source": [
        "import torch\n",
        "\n",
        "# N is batch size; D_in is input dimension;\n",
        "# H is hidden dimension; D_out is output dimension.\n",
        "N, D_in, H, D_out = 64, 1000, 100, 10\n",
        "\n",
        "# Create random Tensors to hold inputs and outputs\n",
        "x = torch.randn(N, D_in)\n",
        "y = torch.randn(N, D_out)\n",
        "\n",
        "# Use the nn package to define our model as a sequence of layers. nn.Sequential\n",
        "# is a Module which contains other Modules, and applies them in sequence to\n",
        "# produce its output. Each Linear Module computes output from input using a\n",
        "# linear function, and holds internal Tensors for its weight and bias.\n",
        "model = torch.nn.Sequential(\n",
        "    torch.nn.Linear(D_in, H),\n",
        "    torch.nn.ReLU(),\n",
        "    torch.nn.Linear(H, D_out),\n",
        ")\n",
        "\n",
        "# The nn package also contains definitions of popular loss functions; in this\n",
        "# case we will use Mean Squared Error (MSE) as our loss function.\n",
        "loss_fn = torch.nn.MSELoss(reduction='sum')\n",
        "\n",
        "learning_rate = 1e-4\n",
        "\n",
        "for t in range(500):\n",
        "    # Forward pass: compute predicted y by passing x to the model. Module objects\n",
        "    # override the __call__ operator so you can call them like functions. When\n",
        "    # doing so you pass a Tensor of input data to the Module and it produces\n",
        "    # a Tensor of output data.\n",
        "    y_pred = model(x)\n",
        "\n",
        "    # Compute and print loss. We pass Tensors containing the predicted and true\n",
        "    # values of y, and the loss function returns a Tensor containing the\n",
        "    # loss.\n",
        "    loss = loss_fn(y_pred, y)\n",
        "    if (t % 100) == 0:\n",
        "      print('epoch:' + str(t), 'loss:' + str(loss.item()))\n",
        "\n",
        "    # Zero the gradients before running the backward pass.\n",
        "    # We need to set the gradients to zero before the backward pass, because\n",
        "    # Pytorch accumulates the gradients on subsequent backward passes. The risk\n",
        "    # is that gradients can point in some other directions than the minimum.\n",
        "    model.zero_grad()\n",
        "\n",
        "    # Backward pass: compute gradient of the loss with respect to all the learnable\n",
        "    # parameters of the model. Internally, the parameters of each Module are stored\n",
        "    # in Tensors with requires_grad=True, so this call will compute gradients for\n",
        "    # all learnable parameters in the model.\n",
        "    loss.backward()\n",
        "\n",
        "    # Update the weights using gradient descent. Each parameter is a Tensor, so\n",
        "    # we can access its gradients like we did before.\n",
        "    with torch.no_grad():\n",
        "      for param in model.parameters():\n",
        "        param -= learning_rate * param.grad"
      ],
      "execution_count": 0,
      "outputs": []
    },
    {
      "metadata": {
        "id": "BMSI1RXyIjW-",
        "colab_type": "text"
      },
      "cell_type": "markdown",
      "source": [
        "#### Optim\n",
        "\n",
        "Until now, the parameters have been manually updated, avoiding tracking history in autograd (using for instance *torch.no_grad()*) .\n",
        "\n",
        "Nevertheless, if we want to adopt more sophisticated optimizers, we can use the optim package of pytorch as follows."
      ]
    },
    {
      "metadata": {
        "id": "PEhB1dQiIopW",
        "colab_type": "code",
        "colab": {}
      },
      "cell_type": "code",
      "source": [
        "# -*- coding: utf-8 -*-\n",
        "import torch\n",
        "\n",
        "# N is batch size; D_in is input dimension;\n",
        "# H is hidden dimension; D_out is output dimension.\n",
        "N, D_in, H, D_out = 64, 1000, 100, 10\n",
        "\n",
        "# Create random Tensors to hold inputs and outputs\n",
        "x = torch.randn(N, D_in)\n",
        "y = torch.randn(N, D_out)\n",
        "\n",
        "# Use the nn package to define our model and loss function.\n",
        "model = torch.nn.Sequential(\n",
        "    torch.nn.Linear(D_in, H),\n",
        "    torch.nn.ReLU(),\n",
        "    torch.nn.Linear(H, D_out),\n",
        ")\n",
        "loss_fn = torch.nn.MSELoss(reduction='sum')\n",
        "\n",
        "# Use the optim package to define an Optimizer that will update the weights of\n",
        "# the model for us. Here we will use Adam; the optim package contains many other\n",
        "# optimization algoriths. The first argument to the Adam constructor tells the\n",
        "# optimizer which Tensors it should update.\n",
        "learning_rate = 1e-4\n",
        "optimizer = torch.optim.Adam(model.parameters(), lr=learning_rate)\n",
        "for t in range(500):\n",
        "    # Forward pass: compute predicted y by passing x to the model.\n",
        "    y_pred = model(x)\n",
        "\n",
        "    # Compute and print loss.\n",
        "    loss = loss_fn(y_pred, y)\n",
        "    if (t % 100) == 0:\n",
        "      print('epoch:' + str(t), 'loss:' + str(loss.item()))\n",
        "\n",
        "    # Before the backward pass, use the optimizer object to zero all of the\n",
        "    # gradients for the variables it will update (which are the learnable\n",
        "    # weights of the model). This is because by default, gradients are\n",
        "    # accumulated in buffers( i.e, not overwritten) whenever .backward()\n",
        "    # is called. Checkout docs of torch.autograd.backward for more details.\n",
        "    optimizer.zero_grad()\n",
        "\n",
        "    # Backward pass: compute gradient of the loss with respect to model\n",
        "    # parameters\n",
        "    loss.backward()\n",
        "\n",
        "    # Calling the step function on an Optimizer makes an update to its\n",
        "    # parameters\n",
        "    optimizer.step()"
      ],
      "execution_count": 0,
      "outputs": []
    }
  ]
}