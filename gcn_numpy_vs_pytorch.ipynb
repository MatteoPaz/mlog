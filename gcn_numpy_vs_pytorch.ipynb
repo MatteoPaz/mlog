{
  "nbformat": 4,
  "nbformat_minor": 0,
  "metadata": {
    "colab": {
      "name": "gcn-numpy-vs-pytorch.ipynb",
      "version": "0.3.2",
      "provenance": [],
      "collapsed_sections": [],
      "include_colab_link": true
    },
    "kernelspec": {
      "name": "python3",
      "display_name": "Python 3"
    }
  },
  "cells": [
    {
      "cell_type": "markdown",
      "metadata": {
        "id": "view-in-github",
        "colab_type": "text"
      },
      "source": [
        "<a href=\"https://colab.research.google.com/github/giuseppefutia/ml/blob/master/gcn_numpy_vs_pytorch.ipynb\" target=\"_parent\"><img src=\"https://colab.research.google.com/assets/colab-badge.svg\" alt=\"Open In Colab\"/></a>"
      ]
    },
    {
      "metadata": {
        "id": "0V4iMZ9zTmFT",
        "colab_type": "text"
      },
      "cell_type": "markdown",
      "source": [
        "# Understanding Graph Convolutional Networks using Numpy and Pytorch\n",
        "\n",
        "In this tutorial I provide some basic concepts on neural networks and I illustrate the graph convolutional network architecture, providing examples using the computational library numpy and the deep learning framework pytorch.\n",
        "\n",
        "Exploring the numpy code, you are able to fully understand the computations and the algorithm (for instance the backpropagation), while in the Pytorch code you use training algorithms and optimizers as a black box.\n",
        "\n",
        "I try to provide some autoconsistent examples: in this way you can run each block code autonomusly."
      ]
    },
    {
      "metadata": {
        "id": "NzDq1I4eVJiW",
        "colab_type": "text"
      },
      "cell_type": "markdown",
      "source": [
        "## Two-layered Network\n",
        "In this first example, we see how to train a shallow neural network with numpy and pytorch.\n",
        "\n",
        "This example is written starting from the code published at the following link: https://pytorch.org/tutorials/beginner/pytorch_with_examples.html"
      ]
    },
    {
      "metadata": {
        "id": "moD99bk6VeWe",
        "colab_type": "text"
      },
      "cell_type": "markdown",
      "source": [
        "### Numpy implementation\n"
      ]
    },
    {
      "metadata": {
        "id": "RDvebgfgThhy",
        "colab_type": "code",
        "colab": {
          "base_uri": "https://localhost:8080/",
          "height": 104
        },
        "outputId": "78d475a9-0f51-45b9-b09d-196e8ef4a8e9"
      },
      "cell_type": "code",
      "source": [
        "import numpy as np\n",
        "\n",
        "# N is batch size; D_in is input dimension;\n",
        "# H is hidden dimension; D_out is output dimension.\n",
        "N, D_in, H, D_out = 64, 1000, 100, 10\n",
        "\n",
        "# Create random input and output data\n",
        "x = np.random.randn(N, D_in)\n",
        "y = np.random.randn(N, D_out)\n",
        "\n",
        "# Randomly initialize weights\n",
        "w1 = np.random.randn(D_in, H)\n",
        "w2 = np.random.randn(H, D_out)\n",
        "\n",
        "# Define the learning rate \n",
        "learning_rate = 1e-6\n",
        "\n",
        "# Loop for the number of epoch\n",
        "for t in range(500):\n",
        "    \n",
        "    # Forward pass: compute predicted y\n",
        "    h = x.dot(w1)\n",
        "    h_relu = np.maximum(h, 0)\n",
        "    y_pred = h_relu.dot(w2)\n",
        "\n",
        "    # Compute the Mean Squared Error (MSE) and print the loss.\n",
        "    loss = np.square(y_pred - y).sum()\n",
        "    \n",
        "    if (t % 100) == 0:\n",
        "      print('epoch:' + str(t), 'loss:' + str(loss))\n",
        "\n",
        "    # Backprop to compute gradients of w1 and w2 with respect to loss\n",
        "    # Remember that backprop is performed applying the chain rule of derivatives\n",
        "    \n",
        "    # Let's analyze each step of the backprop\n",
        "    \n",
        "    # This the derivative of the MSE function\n",
        "    grad_y_pred = 2.0 * (y_pred - y)\n",
        "    grad_w2 = h_relu.T.dot(grad_y_pred)\n",
        "    grad_h_relu = grad_y_pred.dot(w2.T)\n",
        "    grad_h = grad_h_relu.copy()\n",
        "    grad_h[h < 0] = 0\n",
        "    grad_w1 = x.T.dot(grad_h)\n",
        "\n",
        "    # Update weights\n",
        "    w1 -= learning_rate * grad_w1\n",
        "    w2 -= learning_rate * grad_w2"
      ],
      "execution_count": 7,
      "outputs": [
        {
          "output_type": "stream",
          "text": [
            "epoch:0 loss:28426790.467448108\n",
            "epoch:100 loss:573.230085711877\n",
            "epoch:200 loss:6.783543314221504\n",
            "epoch:300 loss:0.135135595572394\n",
            "epoch:400 loss:0.002993381668289992\n"
          ],
          "name": "stdout"
        }
      ]
    },
    {
      "metadata": {
        "id": "RvbBm-UAaY65",
        "colab_type": "text"
      },
      "cell_type": "markdown",
      "source": [
        "### Pytorch Implementation"
      ]
    },
    {
      "metadata": {
        "id": "WMEg48C5by9_",
        "colab_type": "text"
      },
      "cell_type": "markdown",
      "source": [
        "In this example we adopt pytorch tensors for input, output data, and weights.\n",
        "\n",
        "Here, we manually perform forward and backward."
      ]
    },
    {
      "metadata": {
        "id": "GhU5iPuHWnPq",
        "colab_type": "code",
        "colab": {
          "base_uri": "https://localhost:8080/",
          "height": 104
        },
        "outputId": "f75eb781-1d20-4af3-e209-0689c09c0a50"
      },
      "cell_type": "code",
      "source": [
        "import torch\n",
        "\n",
        "\n",
        "dtype = torch.float\n",
        "device = torch.device(\"cpu\")\n",
        "\n",
        "if torch.cuda.is_available(): # Try to use GPU if available\n",
        "  device = torch.device('cuda')\n",
        "\n",
        "# N is batch size; D_in is input dimension;\n",
        "# H is hidden dimension; D_out is output dimension.\n",
        "N, D_in, H, D_out = 64, 1000, 100, 10\n",
        "\n",
        "# Create random input and output data\n",
        "x = torch.randn(N, D_in, device=device, dtype=dtype)\n",
        "y = torch.randn(N, D_out, device=device, dtype=dtype)\n",
        "\n",
        "# Randomly initialize weights\n",
        "w1 = torch.randn(D_in, H, device=device, dtype=dtype)\n",
        "w2 = torch.randn(H, D_out, device=device, dtype=dtype)\n",
        "\n",
        "# Define the learning rate\n",
        "learning_rate = 1e-6\n",
        "\n",
        "for t in range(500):\n",
        "  \n",
        "    # Forward pass: compute predicted y\n",
        "    # mm() performs a matrix multiplication of x and w1\n",
        "    h = x.mm(w1)\n",
        "    # clam() allows you to construct the relu. The output will be the max betwwen 0 and the number\n",
        "    h_relu = h.clamp(min=0)\n",
        "    y_pred = h_relu.mm(w2)\n",
        "\n",
        "    # Compute and print loss\n",
        "    # Using item, I can get the effective value of loss (otherwise I will get a tensor)\n",
        "    loss = (y_pred - y).pow(2).sum().item()\n",
        "    \n",
        "    if (t % 100) == 0:\n",
        "      print('epoch:' + str(t), 'loss:' + str(loss))\n",
        "\n",
        "    # Backprop to compute gradients of w1 and w2 with respect to loss\n",
        "    grad_y_pred = 2.0 * (y_pred - y)\n",
        "    grad_w2 = h_relu.t().mm(grad_y_pred)\n",
        "    grad_h_relu = grad_y_pred.mm(w2.t())\n",
        "    grad_h = grad_h_relu.clone()\n",
        "    grad_h[h < 0] = 0\n",
        "    grad_w1 = x.t().mm(grad_h)\n",
        "\n",
        "    # Update weights using gradient descent\n",
        "    w1 -= learning_rate * grad_w1\n",
        "    w2 -= learning_rate * grad_w2"
      ],
      "execution_count": 8,
      "outputs": [
        {
          "output_type": "stream",
          "text": [
            "epoch:0 loss:29190852.0\n",
            "epoch:100 loss:306.8869934082031\n",
            "epoch:200 loss:1.499150037765503\n",
            "epoch:300 loss:0.015107796527445316\n",
            "epoch:400 loss:0.00039342930540442467\n"
          ],
          "name": "stdout"
        }
      ]
    },
    {
      "metadata": {
        "id": "SOqANZaZfnqB",
        "colab_type": "text"
      },
      "cell_type": "markdown",
      "source": [
        "In this example we do not manually perform forward and backward propagation, but we exploit the autograd feature of Pytorch in order to automate both the steps.\n",
        "\n",
        "With the autograd function, a computational graph will be built during the forward pass. For each computation a derivative will be generated, that will be used during the backprop."
      ]
    },
    {
      "metadata": {
        "id": "DfDgFf7rfnKR",
        "colab_type": "code",
        "colab": {
          "base_uri": "https://localhost:8080/",
          "height": 104
        },
        "outputId": "a1f4cb6e-422d-4bf8-a055-17bf56e523b6"
      },
      "cell_type": "code",
      "source": [
        "import torch\n",
        "\n",
        "dtype = torch.float\n",
        "device = torch.device(\"cpu\")\n",
        "if torch.cuda.is_available(): # Try to use GPU if available\n",
        "  device = torch.device('cuda')\n",
        "\n",
        "# N is batch size; D_in is input dimension;\n",
        "# H is hidden dimension; D_out is output dimension.\n",
        "N, D_in, H, D_out = 64, 1000, 100, 10\n",
        "\n",
        "# Create random Tensors to hold input and outputs.\n",
        "# Setting requires_grad=False indicates that we do not need to compute gradients\n",
        "# with respect to these Tensors during the backward pass.\n",
        "x = torch.randn(N, D_in, device=device, dtype=dtype)\n",
        "y = torch.randn(N, D_out, device=device, dtype=dtype)\n",
        "\n",
        "# Create random Tensors for weights.\n",
        "# Setting requires_grad=True indicates that we want to compute gradients with\n",
        "# respect to these Tensors during the backward pass.\n",
        "w1 = torch.randn(D_in, H, device=device, dtype=dtype, requires_grad=True)\n",
        "w2 = torch.randn(H, D_out, device=device, dtype=dtype, requires_grad=True)\n",
        "\n",
        "# Define the learning rate\n",
        "learning_rate = 1e-6\n",
        "\n",
        "for t in range(500):\n",
        "    # Forward pass: compute predicted y using operations on Tensors; these\n",
        "    # are exactly the same operations we used to compute the forward pass using\n",
        "    # Tensors, but we do not need to keep references to intermediate values since\n",
        "    # we are not implementing the backward pass by hand.\n",
        "    y_pred = x.mm(w1).clamp(min=0).mm(w2)\n",
        "\n",
        "    # Compute and print loss using operations on Tensors.\n",
        "    # Now loss is a Tensor of shape (1,)\n",
        "    # loss.item() gets the a scalar value held in the loss.\n",
        "    loss = (y_pred - y).pow(2).sum()\n",
        "    if (t % 100) == 0:\n",
        "      print('epoch:' + str(t), 'loss:' + str(loss.item()))\n",
        "\n",
        "    # Use autograd to compute the backward pass. This call will compute the\n",
        "    # gradient of loss with respect to all Tensors with requires_grad=True.\n",
        "    # After this call w1.grad and w2.grad will be Tensors holding the gradient\n",
        "    # of the loss with respect to w1 and w2 respectively.\n",
        "    loss.backward()\n",
        "\n",
        "    # Manually update weights using gradient descent. Wrap in torch.no_grad()\n",
        "    # because weights have requires_grad=True, but we don't need to track this\n",
        "    # in autograd.\n",
        "    # An alternative way is to operate on weight.data and weight.grad.data.\n",
        "    # Recall that tensor.data gives a tensor that shares the storage with\n",
        "    # tensor, but doesn't track history.\n",
        "    # You can also use torch.optim.SGD to achieve this.\n",
        "    with torch.no_grad():\n",
        "        w1 -= learning_rate * w1.grad\n",
        "        w2 -= learning_rate * w2.grad\n",
        "\n",
        "        # Manually zero the gradients after updating weights\n",
        "        w1.grad.zero_()\n",
        "        w2.grad.zero_()"
      ],
      "execution_count": 10,
      "outputs": [
        {
          "output_type": "stream",
          "text": [
            "epoch:0 loss:31386812.0\n",
            "epoch:100 loss:309.37091064453125\n",
            "epoch:200 loss:0.6816291809082031\n",
            "epoch:300 loss:0.0024171480908989906\n",
            "epoch:400 loss:9.141815098701045e-05\n"
          ],
          "name": "stdout"
        }
      ]
    },
    {
      "metadata": {
        "id": "5m3N8FhpkXY_",
        "colab_type": "text"
      },
      "cell_type": "markdown",
      "source": [
        ""
      ]
    }
  ]
}