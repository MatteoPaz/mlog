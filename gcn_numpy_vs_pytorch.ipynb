{
  "nbformat": 4,
  "nbformat_minor": 0,
  "metadata": {
    "colab": {
      "name": "gcn-numpy-vs-pytorch.ipynb",
      "version": "0.3.2",
      "provenance": [],
      "collapsed_sections": [],
      "include_colab_link": true
    },
    "kernelspec": {
      "name": "python3",
      "display_name": "Python 3"
    },
    "accelerator": "GPU"
  },
  "cells": [
    {
      "cell_type": "markdown",
      "metadata": {
        "id": "view-in-github",
        "colab_type": "text"
      },
      "source": [
        "<a href=\"https://colab.research.google.com/github/giuseppefutia/ml/blob/master/gcn_numpy_vs_pytorch.ipynb\" target=\"_parent\"><img src=\"https://colab.research.google.com/assets/colab-badge.svg\" alt=\"Open In Colab\"/></a>"
      ]
    },
    {
      "metadata": {
        "id": "0V4iMZ9zTmFT",
        "colab_type": "text"
      },
      "cell_type": "markdown",
      "source": [
        "# Understanding Graph Convolutional Networks using Numpy and Pytorch\n",
        "\n",
        "In this tutorial I provide some basic concepts on neural networks and I illustrate the graph convolutional network architecture, providing examples using the computational library numpy and the deep learning framework pytorch.\n",
        "\n",
        "Exploring the numpy code, you are able to fully understand the computations and the algorithm (for instance the backpropagation), while in the Pytorch code you use training algorithms and optimizers as a black box.\n",
        "\n",
        "I try to provide some autoconsistent examples: in this way you can run each block code autonomusly."
      ]
    },
    {
      "metadata": {
        "id": "NzDq1I4eVJiW",
        "colab_type": "text"
      },
      "cell_type": "markdown",
      "source": [
        "## Two-layered Network\n",
        "In this first example, we see how to train a shallow neural network with numpy and pytorch.\n",
        "\n",
        "This example is written starting from the code published at the following link: https://pytorch.org/tutorials/beginner/pytorch_with_examples.html"
      ]
    },
    {
      "metadata": {
        "id": "moD99bk6VeWe",
        "colab_type": "text"
      },
      "cell_type": "markdown",
      "source": [
        "### Numpy implementation\n"
      ]
    },
    {
      "metadata": {
        "id": "RDvebgfgThhy",
        "colab_type": "code",
        "outputId": "78d475a9-0f51-45b9-b09d-196e8ef4a8e9",
        "colab": {
          "base_uri": "https://localhost:8080/",
          "height": 104
        }
      },
      "cell_type": "code",
      "source": [
        "import numpy as np\n",
        "\n",
        "# N is batch size; D_in is input dimension;\n",
        "# H is hidden dimension; D_out is output dimension.\n",
        "N, D_in, H, D_out = 64, 1000, 100, 10\n",
        "\n",
        "# Create random input and output data\n",
        "x = np.random.randn(N, D_in)\n",
        "y = np.random.randn(N, D_out)\n",
        "\n",
        "# Randomly initialize weights\n",
        "w1 = np.random.randn(D_in, H)\n",
        "w2 = np.random.randn(H, D_out)\n",
        "\n",
        "# Define the learning rate \n",
        "learning_rate = 1e-6\n",
        "\n",
        "# Loop for the number of epoch\n",
        "for t in range(500):\n",
        "    \n",
        "    # Forward pass: compute predicted y\n",
        "    h = x.dot(w1)\n",
        "    h_relu = np.maximum(h, 0)\n",
        "    y_pred = h_relu.dot(w2)\n",
        "\n",
        "    # Compute the Mean Squared Error (MSE) and print the loss.\n",
        "    loss = np.square(y_pred - y).sum()\n",
        "    \n",
        "    if (t % 100) == 0:\n",
        "      print('epoch:' + str(t), 'loss:' + str(loss))\n",
        "\n",
        "    # Backprop to compute gradients of w1 and w2 with respect to loss\n",
        "    # Remember that backprop is performed applying the chain rule of derivatives\n",
        "    \n",
        "    # Let's analyze each step of the backprop\n",
        "    \n",
        "    # This the derivative of the MSE function\n",
        "    grad_y_pred = 2.0 * (y_pred - y)\n",
        "    grad_w2 = h_relu.T.dot(grad_y_pred)\n",
        "    grad_h_relu = grad_y_pred.dot(w2.T)\n",
        "    grad_h = grad_h_relu.copy()\n",
        "    grad_h[h < 0] = 0\n",
        "    grad_w1 = x.T.dot(grad_h)\n",
        "\n",
        "    # Update weights\n",
        "    w1 -= learning_rate * grad_w1\n",
        "    w2 -= learning_rate * grad_w2"
      ],
      "execution_count": 0,
      "outputs": [
        {
          "output_type": "stream",
          "text": [
            "epoch:0 loss:28426790.467448108\n",
            "epoch:100 loss:573.230085711877\n",
            "epoch:200 loss:6.783543314221504\n",
            "epoch:300 loss:0.135135595572394\n",
            "epoch:400 loss:0.002993381668289992\n"
          ],
          "name": "stdout"
        }
      ]
    },
    {
      "metadata": {
        "id": "RvbBm-UAaY65",
        "colab_type": "text"
      },
      "cell_type": "markdown",
      "source": [
        "### Pytorch Implementation"
      ]
    },
    {
      "metadata": {
        "id": "WMEg48C5by9_",
        "colab_type": "text"
      },
      "cell_type": "markdown",
      "source": [
        "#### Tensors\n",
        "\n",
        "In this example we adopt pytorch tensors for input, output data, and weights.\n",
        "\n",
        "Here, we manually perform forward and backward (as we made in the previous step with numpy)."
      ]
    },
    {
      "metadata": {
        "id": "GhU5iPuHWnPq",
        "colab_type": "code",
        "outputId": "1ec8e3cd-6958-416a-e522-50db9f3c138b",
        "colab": {
          "base_uri": "https://localhost:8080/",
          "height": 121
        }
      },
      "cell_type": "code",
      "source": [
        "import torch\n",
        "\n",
        "\n",
        "dtype = torch.float\n",
        "device = torch.device(\"cpu\")\n",
        "\n",
        "if torch.cuda.is_available(): # Try to use GPU if available\n",
        "  device = torch.device('cuda')\n",
        "\n",
        "print(device)\n",
        "\n",
        "# N is batch size; D_in is input dimension;\n",
        "# H is hidden dimension; D_out is output dimension.\n",
        "N, D_in, H, D_out = 64, 1000, 100, 10\n",
        "\n",
        "# Create random input and output data\n",
        "x = torch.randn(N, D_in, device=device, dtype=dtype)\n",
        "y = torch.randn(N, D_out, device=device, dtype=dtype)\n",
        "\n",
        "# Randomly initialize weights\n",
        "w1 = torch.randn(D_in, H, device=device, dtype=dtype)\n",
        "w2 = torch.randn(H, D_out, device=device, dtype=dtype)\n",
        "\n",
        "# Define the learning rate\n",
        "learning_rate = 1e-6\n",
        "\n",
        "for t in range(500):\n",
        "  \n",
        "    # Forward pass: compute predicted y\n",
        "    # mm() performs a matrix multiplication of x and w1\n",
        "    h = x.mm(w1)\n",
        "    # clam() allows you to construct the relu. The output will be the max betwwen 0 and the number\n",
        "    h_relu = h.clamp(min=0)\n",
        "    y_pred = h_relu.mm(w2)\n",
        "\n",
        "    # Compute and print loss\n",
        "    # Using item, I can get the effective value of loss (otherwise I will get a tensor)\n",
        "    loss = (y_pred - y).pow(2).sum().item()\n",
        "    \n",
        "    if (t % 100) == 0:\n",
        "      print('epoch:' + str(t), 'loss:' + str(loss))\n",
        "\n",
        "    # Backprop to compute gradients of w1 and w2 with respect to loss\n",
        "    grad_y_pred = 2.0 * (y_pred - y)\n",
        "    grad_w2 = h_relu.t().mm(grad_y_pred)\n",
        "    grad_h_relu = grad_y_pred.mm(w2.t())\n",
        "    grad_h = grad_h_relu.clone()\n",
        "    grad_h[h < 0] = 0\n",
        "    grad_w1 = x.t().mm(grad_h)\n",
        "\n",
        "    # Update weights using gradient descent\n",
        "    w1 -= learning_rate * grad_w1\n",
        "    w2 -= learning_rate * grad_w2"
      ],
      "execution_count": 1,
      "outputs": [
        {
          "output_type": "stream",
          "text": [
            "cuda\n",
            "epoch:0 loss:33688504.0\n",
            "epoch:100 loss:428.52923583984375\n",
            "epoch:200 loss:1.9298640489578247\n",
            "epoch:300 loss:0.015833145007491112\n",
            "epoch:400 loss:0.00035557340015657246\n"
          ],
          "name": "stdout"
        }
      ]
    },
    {
      "metadata": {
        "id": "SOqANZaZfnqB",
        "colab_type": "text"
      },
      "cell_type": "markdown",
      "source": [
        "#### Autograd\n",
        "In this example we do not manually perform forward and backward propagation, but we exploit the autograd feature of Pytorch in order to automate both the steps.\n",
        "\n",
        "With the autograd function, a computational graph will be built during the forward pass. For each computation a derivative will be generated, that will be used during the backprop."
      ]
    },
    {
      "metadata": {
        "id": "DfDgFf7rfnKR",
        "colab_type": "code",
        "outputId": "a1f4cb6e-422d-4bf8-a055-17bf56e523b6",
        "colab": {
          "base_uri": "https://localhost:8080/",
          "height": 104
        }
      },
      "cell_type": "code",
      "source": [
        "import torch\n",
        "\n",
        "dtype = torch.float\n",
        "device = torch.device(\"cpu\")\n",
        "if torch.cuda.is_available(): # Try to use GPU if available\n",
        "  device = torch.device('cuda')\n",
        "\n",
        "print(device)\n",
        "\n",
        "# N is batch size; D_in is input dimension;\n",
        "# H is hidden dimension; D_out is output dimension.\n",
        "N, D_in, H, D_out = 64, 1000, 100, 10\n",
        "\n",
        "# Create random Tensors to hold input and outputs.\n",
        "# Setting requires_grad=False indicates that we do not need to compute gradients\n",
        "# with respect to these Tensors during the backward pass.\n",
        "x = torch.randn(N, D_in, device=device, dtype=dtype)\n",
        "y = torch.randn(N, D_out, device=device, dtype=dtype)\n",
        "\n",
        "# Create random Tensors for weights.\n",
        "# Setting requires_grad=True indicates that we want to compute gradients with\n",
        "# respect to these Tensors during the backward pass.\n",
        "w1 = torch.randn(D_in, H, device=device, dtype=dtype, requires_grad=True)\n",
        "w2 = torch.randn(H, D_out, device=device, dtype=dtype, requires_grad=True)\n",
        "\n",
        "# Define the learning rate\n",
        "learning_rate = 1e-6\n",
        "\n",
        "for t in range(500):\n",
        "    # Forward pass: compute predicted y using operations on Tensors; these\n",
        "    # are exactly the same operations we used to compute the forward pass using\n",
        "    # Tensors, but we do not need to keep references to intermediate values since\n",
        "    # we are not implementing the backward pass by hand.\n",
        "    y_pred = x.mm(w1).clamp(min=0).mm(w2)\n",
        "\n",
        "    # Compute and print loss using operations on Tensors.\n",
        "    # Now loss is a Tensor of shape (1,)\n",
        "    # loss.item() gets the a scalar value held in the loss.\n",
        "    loss = (y_pred - y).pow(2).sum()\n",
        "    if (t % 100) == 0:\n",
        "      print('epoch:' + str(t), 'loss:' + str(loss.item()))\n",
        "\n",
        "    # Use autograd to compute the backward pass. This call will compute the\n",
        "    # gradient of loss with respect to all Tensors with requires_grad=True.\n",
        "    # After this call w1.grad and w2.grad will be Tensors holding the gradient\n",
        "    # of the loss with respect to w1 and w2 respectively.\n",
        "    loss.backward()\n",
        "\n",
        "    # Manually update weights using gradient descent. Wrap in torch.no_grad()\n",
        "    # because weights have requires_grad=True, but we don't need to track this\n",
        "    # in autograd.\n",
        "    # An alternative way is to operate on weight.data and weight.grad.data.\n",
        "    # Recall that tensor.data gives a tensor that shares the storage with\n",
        "    # tensor, but doesn't track history.\n",
        "    # You can also use torch.optim.SGD to achieve this.\n",
        "    with torch.no_grad():\n",
        "        w1 -= learning_rate * w1.grad\n",
        "        w2 -= learning_rate * w2.grad\n",
        "\n",
        "        # Manually zero the gradients after updating weights\n",
        "        w1.grad.zero_()\n",
        "        w2.grad.zero_()"
      ],
      "execution_count": 0,
      "outputs": [
        {
          "output_type": "stream",
          "text": [
            "epoch:0 loss:31386812.0\n",
            "epoch:100 loss:309.37091064453125\n",
            "epoch:200 loss:0.6816291809082031\n",
            "epoch:300 loss:0.0024171480908989906\n",
            "epoch:400 loss:9.141815098701045e-05\n"
          ],
          "name": "stdout"
        }
      ]
    },
    {
      "metadata": {
        "id": "5m3N8FhpkXY_",
        "colab_type": "text"
      },
      "cell_type": "markdown",
      "source": [
        "#### nn\n",
        "\n",
        "Computational graphs and autograd are very powerful to define complex operators and automatically compute derivatives.\n",
        "\n",
        "Traditionally, when we build neural networks, we usually arrange computation in layers that contain learnable parameters which will be optimized during the learning stage."
      ]
    },
    {
      "metadata": {
        "id": "zpqUu7iCWyt_",
        "colab_type": "code",
        "colab": {
          "base_uri": "https://localhost:8080/",
          "height": 104
        },
        "outputId": "4f871d6b-1355-46ce-b54b-afc15f8e54d1"
      },
      "cell_type": "code",
      "source": [
        "import torch\n",
        "\n",
        "# N is batch size; D_in is input dimension;\n",
        "# H is hidden dimension; D_out is output dimension.\n",
        "N, D_in, H, D_out = 64, 1000, 100, 10\n",
        "\n",
        "# Create random Tensors to hold inputs and outputs\n",
        "x = torch.randn(N, D_in)\n",
        "y = torch.randn(N, D_out)\n",
        "\n",
        "# Use the nn package to define our model as a sequence of layers. nn.Sequential\n",
        "# is a Module which contains other Modules, and applies them in sequence to\n",
        "# produce its output. Each Linear Module computes output from input using a\n",
        "# linear function, and holds internal Tensors for its weight and bias.\n",
        "model = torch.nn.Sequential(\n",
        "    torch.nn.Linear(D_in, H),\n",
        "    torch.nn.ReLU(),\n",
        "    torch.nn.Linear(H, D_out),\n",
        ")\n",
        "\n",
        "# The nn package also contains definitions of popular loss functions; in this\n",
        "# case we will use Mean Squared Error (MSE) as our loss function.\n",
        "loss_fn = torch.nn.MSELoss(reduction='sum')\n",
        "\n",
        "learning_rate = 1e-4\n",
        "\n",
        "for t in range(500):\n",
        "    # Forward pass: compute predicted y by passing x to the model. Module objects\n",
        "    # override the __call__ operator so you can call them like functions. When\n",
        "    # doing so you pass a Tensor of input data to the Module and it produces\n",
        "    # a Tensor of output data.\n",
        "    y_pred = model(x)\n",
        "\n",
        "    # Compute and print loss. We pass Tensors containing the predicted and true\n",
        "    # values of y, and the loss function returns a Tensor containing the\n",
        "    # loss.\n",
        "    loss = loss_fn(y_pred, y)\n",
        "    if (t % 100) == 0:\n",
        "      print('epoch:' + str(t), 'loss:' + str(loss.item()))\n",
        "\n",
        "    # Zero the gradients before running the backward pass.\n",
        "    # We need to set the gradients to zero before the backward pass, because\n",
        "    # Pytorch accumulates the gradients on subsequent backward passes. The risk\n",
        "    # is that gradients can point in some other directions than the minimum.\n",
        "    model.zero_grad()\n",
        "\n",
        "    # Backward pass: compute gradient of the loss with respect to all the learnable\n",
        "    # parameters of the model. Internally, the parameters of each Module are stored\n",
        "    # in Tensors with requires_grad=True, so this call will compute gradients for\n",
        "    # all learnable parameters in the model.\n",
        "    loss.backward()\n",
        "\n",
        "    # Update the weights using gradient descent. Each parameter is a Tensor, so\n",
        "    # we can access its gradients like we did before.\n",
        "    with torch.no_grad():\n",
        "      for param in model.parameters():\n",
        "        param -= learning_rate * param.grad"
      ],
      "execution_count": 23,
      "outputs": [
        {
          "output_type": "stream",
          "text": [
            "epoch:0 loss:670.6441040039062\n",
            "epoch:100 loss:2.8842265605926514\n",
            "epoch:200 loss:0.05636054277420044\n",
            "epoch:300 loss:0.0021807411685585976\n",
            "epoch:400 loss:0.00011869626905536279\n"
          ],
          "name": "stdout"
        }
      ]
    },
    {
      "metadata": {
        "id": "IgPbqNN9i9Xs",
        "colab_type": "text"
      },
      "cell_type": "markdown",
      "source": [
        "#### Optim\n",
        "\n",
        "Until now, the parameters have been manually updated, avoiding tracking history in autograd (using for instance *torch.no_grad()*) .\n",
        "\n",
        "Nevertheless, if we want to adopt more sophisticated optimizers, we can use the optim package of pytorch as follows."
      ]
    },
    {
      "metadata": {
        "id": "bRSjXTcBjACx",
        "colab_type": "code",
        "colab": {
          "base_uri": "https://localhost:8080/",
          "height": 104
        },
        "outputId": "8967ac69-f0dc-47ca-d3c5-249347ee8847"
      },
      "cell_type": "code",
      "source": [
        "# -*- coding: utf-8 -*-\n",
        "import torch\n",
        "\n",
        "# N is batch size; D_in is input dimension;\n",
        "# H is hidden dimension; D_out is output dimension.\n",
        "N, D_in, H, D_out = 64, 1000, 100, 10\n",
        "\n",
        "# Create random Tensors to hold inputs and outputs\n",
        "x = torch.randn(N, D_in)\n",
        "y = torch.randn(N, D_out)\n",
        "\n",
        "# Use the nn package to define our model and loss function.\n",
        "model = torch.nn.Sequential(\n",
        "    torch.nn.Linear(D_in, H),\n",
        "    torch.nn.ReLU(),\n",
        "    torch.nn.Linear(H, D_out),\n",
        ")\n",
        "loss_fn = torch.nn.MSELoss(reduction='sum')\n",
        "\n",
        "# Use the optim package to define an Optimizer that will update the weights of\n",
        "# the model for us. Here we will use Adam; the optim package contains many other\n",
        "# optimization algoriths. The first argument to the Adam constructor tells the\n",
        "# optimizer which Tensors it should update.\n",
        "learning_rate = 1e-4\n",
        "optimizer = torch.optim.Adam(model.parameters(), lr=learning_rate)\n",
        "for t in range(500):\n",
        "    # Forward pass: compute predicted y by passing x to the model.\n",
        "    y_pred = model(x)\n",
        "\n",
        "    # Compute and print loss.\n",
        "    loss = loss_fn(y_pred, y)\n",
        "    if (t % 100) == 0:\n",
        "      print('epoch:' + str(t), 'loss:' + str(loss.item()))\n",
        "\n",
        "    # Before the backward pass, use the optimizer object to zero all of the\n",
        "    # gradients for the variables it will update (which are the learnable\n",
        "    # weights of the model). This is because by default, gradients are\n",
        "    # accumulated in buffers( i.e, not overwritten) whenever .backward()\n",
        "    # is called. Checkout docs of torch.autograd.backward for more details.\n",
        "    optimizer.zero_grad()\n",
        "\n",
        "    # Backward pass: compute gradient of the loss with respect to model\n",
        "    # parameters\n",
        "    loss.backward()\n",
        "\n",
        "    # Calling the step function on an Optimizer makes an update to its\n",
        "    # parameters\n",
        "    optimizer.step()"
      ],
      "execution_count": 25,
      "outputs": [
        {
          "output_type": "stream",
          "text": [
            "epoch:0 loss:627.8787841796875\n",
            "epoch:100 loss:44.60072326660156\n",
            "epoch:200 loss:0.4420493543148041\n",
            "epoch:300 loss:0.0011210866505280137\n",
            "epoch:400 loss:4.398425971885445e-06\n"
          ],
          "name": "stdout"
        }
      ]
    },
    {
      "metadata": {
        "id": "ZT_F5YbPnoPK",
        "colab_type": "text"
      },
      "cell_type": "markdown",
      "source": [
        "## Graph Convolutional Networks (GCNs)\n",
        "\n",
        "After an explanation of how neural network architectures are implemented using numpy and pytorh, we are going to explain how to create a neural architecture that is able to learn graph representation for different purposes, from node classification to link prediction.\n",
        "\n",
        "### What are GCNs\n",
        "GCNs are a powerful neural network architecture for machine learning. They are able to produce useful feature representations of nodes in networks. \n",
        "\n",
        "ADD FURTHER INFORMATION"
      ]
    },
    {
      "metadata": {
        "id": "yX2B5Y98nnzz",
        "colab_type": "code",
        "colab": {
          "base_uri": "https://localhost:8080/",
          "height": 763
        },
        "outputId": "d414629f-586d-4560-9372-f5e4d415bbdc"
      },
      "cell_type": "code",
      "source": [
        "import numpy as np\n",
        "\n",
        "# Adjacency Matrix - Size (4,4).\n",
        "A = np.matrix([\n",
        "    [0, 1, 0, 0],\n",
        "    [0, 0, 1, 1], \n",
        "    [0, 1, 0, 0],\n",
        "    [1, 0, 1, 0]],\n",
        "    dtype=float\n",
        ")\n",
        "print('Adjacency Matrix')\n",
        "print(A)\n",
        "print()\n",
        "\n",
        "# Feature Matrix - Size (4.2).\n",
        "X = np.matrix([\n",
        "            [i, -i]\n",
        "            for i in range(A.shape[0])\n",
        "        ], dtype=float)\n",
        "\n",
        "print('Feature Matrix')\n",
        "print(X)\n",
        "print()\n",
        "\n",
        "# Applying the propagation rule to obtain an embedding representation of nodes\n",
        "# from the adjacency matrix. With the following operation, we represent each\n",
        "# node of the graph with two elements (because of the dimension of the feature matrix).\n",
        "L1 = A * X\n",
        "print ('Forward rule')\n",
        "print(L1)\n",
        "print()\n",
        "\n",
        "# Note: The representation of each node (each row) is now a sum of its neighbors\n",
        "# features. In other words, the graph convolutional layer represents each node \n",
        "# as an aggregate of its neighborhood.\n",
        "\n",
        "# The aggregated representation of a node does not include its own features, for\n",
        "# these reasons we need to include a self-loop. To compute this self-loop, we\n",
        "# need to add an identity matrix to the adjacency matrix before applying the\n",
        "# propagation rules.\n",
        "I = np.matrix(np.eye(A.shape[0]))\n",
        "A_hat = A + I\n",
        "L1 = A_hat * W1\n",
        "print ('Forward rule with the first loop')\n",
        "print(L1)\n",
        "print()\n",
        "\n",
        "# To avoid vanishing and explosion gradients issues, we need to normalize the\n",
        "# feature representation of data. We can perform this normalization multiplying\n",
        "# the adjancecy matrix with the inverse degree matrix. The degree matrix is\n",
        "# computed summing the values in each adjacency matrix row and then put this\n",
        "# values in a diagonal matrix\n",
        "\n",
        "D = np.array(np.sum(A, axis=0))[0]\n",
        "print('Degree Matrix starting from the Adjacency Matrix')\n",
        "print(D)\n",
        "print()\n",
        "D = np.matrix(np.diag(D))\n",
        "print('Inverse of Degree Matrix starting from the Adjacency Matrix')\n",
        "print(D**-1)\n",
        "print()\n",
        "\n",
        "# In order to train the network, we need to define a matrix weight\n",
        "W = np.matrix([\n",
        "    [1, -1],\n",
        "    [-1, 1]\n",
        "])\n",
        "print('Weight Matrix')\n",
        "print(W)\n",
        "print()\n",
        "\n",
        "# Before comple the propagation we need to create the degree matrix from A_hat\n",
        "# and not simply A. After that you need to compute the entire propagation\n",
        "D_hat = np.array(np.sum(A_hat, axis=0))[0]\n",
        "D_hat = np.matrix(np.diag(D_hat))\n",
        "forward = D_hat**-1 * A_hat * X * W\n",
        "print('Forward computation')\n",
        "print(forward)\n",
        "print()\n",
        "\n",
        "\n"
      ],
      "execution_count": 43,
      "outputs": [
        {
          "output_type": "stream",
          "text": [
            "Adjacency Matrix\n",
            "[[0. 1. 0. 0.]\n",
            " [0. 0. 1. 1.]\n",
            " [0. 1. 0. 0.]\n",
            " [1. 0. 1. 0.]]\n",
            "\n",
            "Feature Matrix\n",
            "[[ 0.  0.]\n",
            " [ 1. -1.]\n",
            " [ 2. -2.]\n",
            " [ 3. -3.]]\n",
            "\n",
            "Forward rule\n",
            "[[ 1. -1.]\n",
            " [ 5. -5.]\n",
            " [ 1. -1.]\n",
            " [ 2. -2.]]\n",
            "\n",
            "Forward rule with the first loop\n",
            "[[ 1. -1.]\n",
            " [ 6. -6.]\n",
            " [ 3. -3.]\n",
            " [ 5. -5.]]\n",
            "\n",
            "Degree Matrix starting from the Adjacency Matrix\n",
            "[1. 2. 2. 1.]\n",
            "\n",
            "Inverse of Degree Matrix starting from the Adjacency Matrix\n",
            "[[1.  0.  0.  0. ]\n",
            " [0.  0.5 0.  0. ]\n",
            " [0.  0.  0.5 0. ]\n",
            " [0.  0.  0.  1. ]]\n",
            "\n",
            "Weight Matrix\n",
            "[[ 1 -1]\n",
            " [-1  1]]\n",
            "\n",
            "Forward computation\n",
            "[[ 1. -1.]\n",
            " [ 4. -4.]\n",
            " [ 2. -2.]\n",
            " [ 5. -5.]]\n",
            "\n"
          ],
          "name": "stdout"
        }
      ]
    },
    {
      "metadata": {
        "id": "xDaIBs1_p5Ya",
        "colab_type": "text"
      },
      "cell_type": "markdown",
      "source": [
        "# Resources\n",
        "\n",
        "\n",
        "*   [How to do Deep Learning on Graphs with Graph Convolutional Networks](https://towardsdatascience.com/how-to-do-deep-learning-on-graphs-with-graph-convolutional-networks-7d2250723780)\n",
        "*   List item\n",
        "\n"
      ]
    }
  ]
}